{
 "cells": [
  {
   "cell_type": "code",
   "execution_count": 1,
   "metadata": {},
   "outputs": [],
   "source": [
    "import pandas as pd\n",
    "import numpy as np\n",
    "import seaborn as sns\n",
    "from tqdm import tqdm\n",
    "import matplotlib.pyplot as plt\n",
    "%matplotlib inline\n",
    "import warnings\n",
    "warnings.filterwarnings('ignore')\n",
    "import glob\n",
    "import pickle"
   ]
  },
  {
   "cell_type": "code",
   "execution_count": 8,
   "metadata": {},
   "outputs": [
    {
     "name": "stderr",
     "output_type": "stream",
     "text": [
      "100%|██████████| 69/69 [00:00<00:00, 1786.55it/s]\n"
     ]
    }
   ],
   "source": [
    "f_paths = glob.glob('pickles//*')\n",
    "#f_paths = glob.glob('pruning_pickles july 2018//*')\n",
    "results=[]\n",
    "for path in tqdm(f_paths):\n",
    "    results.append(pickle.load(open(path,'rb')))"
   ]
  },
  {
   "cell_type": "code",
   "execution_count": 15,
   "metadata": {},
   "outputs": [
    {
     "data": {
      "text/html": [
       "<div>\n",
       "<style scoped>\n",
       "    .dataframe tbody tr th:only-of-type {\n",
       "        vertical-align: middle;\n",
       "    }\n",
       "\n",
       "    .dataframe tbody tr th {\n",
       "        vertical-align: top;\n",
       "    }\n",
       "\n",
       "    .dataframe thead th {\n",
       "        text-align: right;\n",
       "    }\n",
       "</style>\n",
       "<table border=\"1\" class=\"dataframe\">\n",
       "  <thead>\n",
       "    <tr style=\"text-align: right;\">\n",
       "      <th></th>\n",
       "      <th></th>\n",
       "      <th></th>\n",
       "      <th></th>\n",
       "      <th>decision_tree_auc</th>\n",
       "      <th>ensemble_auc</th>\n",
       "      <th>new_model_auc</th>\n",
       "    </tr>\n",
       "    <tr>\n",
       "      <th>df_name</th>\n",
       "      <th>minimum_estimators</th>\n",
       "      <th>exclusion_threshold</th>\n",
       "      <th>max_number_of_branches</th>\n",
       "      <th></th>\n",
       "      <th></th>\n",
       "      <th></th>\n",
       "    </tr>\n",
       "  </thead>\n",
       "  <tbody>\n",
       "    <tr>\n",
       "      <th rowspan=\"3\" valign=\"top\">iris</th>\n",
       "      <th rowspan=\"3\" valign=\"top\">10</th>\n",
       "      <th rowspan=\"3\" valign=\"top\">0.8</th>\n",
       "      <th>1000</th>\n",
       "      <td>0.967111</td>\n",
       "      <td>0.992979</td>\n",
       "      <td>0.982255</td>\n",
       "    </tr>\n",
       "    <tr>\n",
       "      <th>3000</th>\n",
       "      <td>0.962840</td>\n",
       "      <td>0.992977</td>\n",
       "      <td>0.988656</td>\n",
       "    </tr>\n",
       "    <tr>\n",
       "      <th>5000</th>\n",
       "      <td>0.974959</td>\n",
       "      <td>0.995523</td>\n",
       "      <td>0.991412</td>\n",
       "    </tr>\n",
       "  </tbody>\n",
       "</table>\n",
       "</div>"
      ],
      "text/plain": [
       "                                                                       decision_tree_auc  \\\n",
       "df_name minimum_estimators exclusion_threshold max_number_of_branches                      \n",
       "iris    10                 0.8                 1000                             0.967111   \n",
       "                                               3000                             0.962840   \n",
       "                                               5000                             0.974959   \n",
       "\n",
       "                                                                       ensemble_auc  \\\n",
       "df_name minimum_estimators exclusion_threshold max_number_of_branches                 \n",
       "iris    10                 0.8                 1000                        0.992979   \n",
       "                                               3000                        0.992977   \n",
       "                                               5000                        0.995523   \n",
       "\n",
       "                                                                       new_model_auc  \n",
       "df_name minimum_estimators exclusion_threshold max_number_of_branches                 \n",
       "iris    10                 0.8                 1000                         0.982255  \n",
       "                                               3000                         0.988656  \n",
       "                                               5000                         0.991412  "
      ]
     },
     "execution_count": 15,
     "metadata": {},
     "output_type": "execute_result"
    }
   ],
   "source": [
    "df = pd.DataFrame(results)\n",
    "groups = ['df_name','minimum_estimators','exclusion_threshold','max_number_of_branches']\n",
    "df[[col for col in df.columns if 'auc' in col]+groups].groupby(groups).mean()"
   ]
  },
  {
   "cell_type": "code",
   "execution_count": 17,
   "metadata": {},
   "outputs": [
    {
     "data": {
      "text/html": [
       "<div>\n",
       "<style scoped>\n",
       "    .dataframe tbody tr th:only-of-type {\n",
       "        vertical-align: middle;\n",
       "    }\n",
       "\n",
       "    .dataframe tbody tr th {\n",
       "        vertical-align: top;\n",
       "    }\n",
       "\n",
       "    .dataframe thead th {\n",
       "        text-align: right;\n",
       "    }\n",
       "</style>\n",
       "<table border=\"1\" class=\"dataframe\">\n",
       "  <thead>\n",
       "    <tr style=\"text-align: right;\">\n",
       "      <th></th>\n",
       "      <th></th>\n",
       "      <th></th>\n",
       "      <th></th>\n",
       "      <th>decision_tree_average_depth</th>\n",
       "      <th>ensemble_average_depth</th>\n",
       "      <th>new_model_average_depth</th>\n",
       "    </tr>\n",
       "    <tr>\n",
       "      <th>df_name</th>\n",
       "      <th>minimum_estimators</th>\n",
       "      <th>exclusion_threshold</th>\n",
       "      <th>max_number_of_branches</th>\n",
       "      <th></th>\n",
       "      <th></th>\n",
       "      <th></th>\n",
       "    </tr>\n",
       "  </thead>\n",
       "  <tbody>\n",
       "    <tr>\n",
       "      <th rowspan=\"3\" valign=\"top\">iris</th>\n",
       "      <th rowspan=\"3\" valign=\"top\">10</th>\n",
       "      <th rowspan=\"3\" valign=\"top\">0.8</th>\n",
       "      <th>1000</th>\n",
       "      <td>2.249630</td>\n",
       "      <td>234.783704</td>\n",
       "      <td>9.754074</td>\n",
       "    </tr>\n",
       "    <tr>\n",
       "      <th>3000</th>\n",
       "      <td>2.200000</td>\n",
       "      <td>229.362963</td>\n",
       "      <td>9.330864</td>\n",
       "    </tr>\n",
       "    <tr>\n",
       "      <th>5000</th>\n",
       "      <td>2.294815</td>\n",
       "      <td>238.137037</td>\n",
       "      <td>9.956296</td>\n",
       "    </tr>\n",
       "  </tbody>\n",
       "</table>\n",
       "</div>"
      ],
      "text/plain": [
       "                                                                       decision_tree_average_depth  \\\n",
       "df_name minimum_estimators exclusion_threshold max_number_of_branches                                \n",
       "iris    10                 0.8                 1000                                       2.249630   \n",
       "                                               3000                                       2.200000   \n",
       "                                               5000                                       2.294815   \n",
       "\n",
       "                                                                       ensemble_average_depth  \\\n",
       "df_name minimum_estimators exclusion_threshold max_number_of_branches                           \n",
       "iris    10                 0.8                 1000                                234.783704   \n",
       "                                               3000                                229.362963   \n",
       "                                               5000                                238.137037   \n",
       "\n",
       "                                                                       new_model_average_depth  \n",
       "df_name minimum_estimators exclusion_threshold max_number_of_branches                           \n",
       "iris    10                 0.8                 1000                                   9.754074  \n",
       "                                               3000                                   9.330864  \n",
       "                                               5000                                   9.956296  "
      ]
     },
     "execution_count": 17,
     "metadata": {},
     "output_type": "execute_result"
    }
   ],
   "source": [
    "groups = ['df_name','minimum_estimators','exclusion_threshold','max_number_of_branches']\n",
    "df[[col for col in df.columns if 'average_depth' in col]+groups].groupby(groups).mean()"
   ]
  }
 ],
 "metadata": {
  "kernelspec": {
   "display_name": "Python 3",
   "language": "python",
   "name": "python3"
  },
  "language_info": {
   "codemirror_mode": {
    "name": "ipython",
    "version": 3
   },
   "file_extension": ".py",
   "mimetype": "text/x-python",
   "name": "python",
   "nbconvert_exporter": "python",
   "pygments_lexer": "ipython3",
   "version": "3.7.3"
  }
 },
 "nbformat": 4,
 "nbformat_minor": 2
}

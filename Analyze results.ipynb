{
 "cells": [
  {
   "cell_type": "code",
   "execution_count": 47,
   "metadata": {},
   "outputs": [],
   "source": [
    "import pandas as pd\n",
    "import numpy as np\n",
    "import seaborn as sns\n",
    "from tqdm import tqdm\n",
    "import matplotlib.pyplot as plt\n",
    "%matplotlib inline\n",
    "import warnings\n",
    "warnings.filterwarnings('ignore')\n",
    "import glob\n",
    "import pickle"
   ]
  },
  {
   "cell_type": "code",
   "execution_count": 91,
   "metadata": {},
   "outputs": [
    {
     "name": "stderr",
     "output_type": "stream",
     "text": [
      "100%|██████████| 60/60 [00:00<00:00, 6943.83it/s]\n"
     ]
    }
   ],
   "source": [
    "f_paths = glob.glob('pickles//*')\n",
    "results=[]\n",
    "for path in tqdm(f_paths):\n",
    "    results.append(pickle.load(open(path,'rb')))"
   ]
  },
  {
   "cell_type": "code",
   "execution_count": 92,
   "metadata": {},
   "outputs": [
    {
     "data": {
      "text/html": [
       "<div>\n",
       "<style scoped>\n",
       "    .dataframe tbody tr th:only-of-type {\n",
       "        vertical-align: middle;\n",
       "    }\n",
       "\n",
       "    .dataframe tbody tr th {\n",
       "        vertical-align: top;\n",
       "    }\n",
       "\n",
       "    .dataframe thead th {\n",
       "        text-align: right;\n",
       "    }\n",
       "</style>\n",
       "<table border=\"1\" class=\"dataframe\">\n",
       "  <thead>\n",
       "    <tr style=\"text-align: right;\">\n",
       "      <th></th>\n",
       "      <th></th>\n",
       "      <th>decision_tree_auc</th>\n",
       "      <th>ensemble_auc</th>\n",
       "      <th>new_model_auc</th>\n",
       "    </tr>\n",
       "    <tr>\n",
       "      <th>df_name</th>\n",
       "      <th>max_number_of_branches</th>\n",
       "      <th></th>\n",
       "      <th></th>\n",
       "      <th></th>\n",
       "    </tr>\n",
       "  </thead>\n",
       "  <tbody>\n",
       "    <tr>\n",
       "      <th>iris</th>\n",
       "      <th>3000</th>\n",
       "      <td>0.972284</td>\n",
       "      <td>0.995523</td>\n",
       "      <td>0.993481</td>\n",
       "    </tr>\n",
       "    <tr>\n",
       "      <th>kohkiloyeh</th>\n",
       "      <th>3000</th>\n",
       "      <td>0.822296</td>\n",
       "      <td>0.858667</td>\n",
       "      <td>0.867352</td>\n",
       "    </tr>\n",
       "  </tbody>\n",
       "</table>\n",
       "</div>"
      ],
      "text/plain": [
       "                                   decision_tree_auc  ensemble_auc  \\\n",
       "df_name    max_number_of_branches                                    \n",
       "iris       3000                             0.972284      0.995523   \n",
       "kohkiloyeh 3000                             0.822296      0.858667   \n",
       "\n",
       "                                   new_model_auc  \n",
       "df_name    max_number_of_branches                 \n",
       "iris       3000                         0.993481  \n",
       "kohkiloyeh 3000                         0.867352  "
      ]
     },
     "execution_count": 92,
     "metadata": {},
     "output_type": "execute_result"
    }
   ],
   "source": [
    "df = pd.DataFrame(results)\n",
    "groups = ['df_name','max_number_of_branches']\n",
    "df[[col for col in df.columns if 'auc' in col]+groups].groupby(groups).mean()"
   ]
  },
  {
   "cell_type": "code",
   "execution_count": null,
   "metadata": {},
   "outputs": [],
   "source": [
    "groups = ['df_name','minimum_estimators','exclusion_threshold','max_number_of_branches']\n",
    "df[[col for col in df.columns if 'average_depth' in col]+groups].groupby(groups).mean()"
   ]
  }
 ],
 "metadata": {
  "kernelspec": {
   "display_name": "Python 3",
   "language": "python",
   "name": "python3"
  },
  "language_info": {
   "codemirror_mode": {
    "name": "ipython",
    "version": 3
   },
   "file_extension": ".py",
   "mimetype": "text/x-python",
   "name": "python",
   "nbconvert_exporter": "python",
   "pygments_lexer": "ipython3",
   "version": "3.7.3"
  }
 },
 "nbformat": 4,
 "nbformat_minor": 2
}

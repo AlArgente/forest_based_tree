{
 "cells": [
  {
   "cell_type": "code",
   "execution_count": null,
   "metadata": {},
   "outputs": [],
   "source": [
    "import pandas as pd\n",
    "import numpy as np\n",
    "from ExperimentSetting import *\n",
    "import seaborn as sns\n",
    "import matplotlib.pyplot as plt\n",
    "%matplotlib inline\n",
    "import warnings\n",
    "warnings.filterwarnings('ignore')"
   ]
  },
  {
   "cell_type": "code",
   "execution_count": null,
   "metadata": {},
   "outputs": [],
   "source": [
    "branch_probability_thresholds=[3000]\n",
    "filter_approaches = ['probability']\n",
    "df_names = ['abalone', 'aust_credit', 'balance_scale', 'bank', 'banknote', \n",
    "            'biodeg', 'breast cancer', 'car', 'credit', 'cryotherapy', 'ecoli', \n",
    "            'forest', 'german', 'glass', 'haberman', 'internet', 'iris', 'kohkiloyeh',\n",
    "            'liver', 'magic', 'mamographic', 'nurse', 'occupancy', 'pima', 'seismic', \n",
    "            'spambase', 'tic-tac-toe', 'vegas', 'winery', 'zoo']\n",
    "df_names = ['iris']\n",
    "number_of_estimators=100\n",
    "fixed_params={}\n",
    "num_of_iterations=30\n",
    "\n",
    "e = ExperimentSetting(branch_probability_thresholds,df_names,\n",
    "                                     number_of_estimators,fixed_params)"
   ]
  },
  {
   "cell_type": "code",
   "execution_count": null,
   "metadata": {},
   "outputs": [],
   "source": [
    "e.run()"
   ]
  }
 ],
 "metadata": {
  "kernelspec": {
   "display_name": "Python 3",
   "language": "python",
   "name": "python3"
  },
  "language_info": {
   "codemirror_mode": {
    "name": "ipython",
    "version": 3
   },
   "file_extension": ".py",
   "mimetype": "text/x-python",
   "name": "python",
   "nbconvert_exporter": "python",
   "pygments_lexer": "ipython3",
   "version": "3.7.3"
  }
 },
 "nbformat": 4,
 "nbformat_minor": 2
}
